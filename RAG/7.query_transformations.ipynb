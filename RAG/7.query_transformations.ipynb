{
  "cells": [
    {
      "cell_type": "markdown",
      "metadata": {},
      "source": [
        "# Query Transformations for Improved Retrieval in RAG Systems\n",
        "\n",
        "## Overview\n",
        "\n",
        "This code implements three query transformation techniques to enhance the retrieval process in Retrieval-Augmented Generation (RAG) systems:\n",
        "\n",
        "1. Query Rewriting\n",
        "2. Step-back Prompting\n",
        "3. Sub-query Decomposition\n",
        "\n",
        "Each technique aims to improve the relevance and comprehensiveness of retrieved information by modifying or expanding the original query.\n",
        "\n",
        "## Motivation\n",
        "\n",
        "RAG systems often face challenges in retrieving the most relevant information, especially when dealing with complex or ambiguous queries. These query transformation techniques address this issue by reformulating queries to better match relevant documents or to retrieve more comprehensive information.\n",
        "\n",
        "## Key Components\n",
        "\n",
        "1. Query Rewriting: Reformulates queries to be more specific and detailed.\n",
        "2. Step-back Prompting: Generates broader queries for better context retrieval.\n",
        "3. Sub-query Decomposition: Breaks down complex queries into simpler sub-queries.\n",
        "\n",
        "## Method Details\n",
        "\n",
        "### 1. Query Rewriting\n",
        "\n",
        "- **Purpose**: To make queries more specific and detailed, improving the likelihood of retrieving relevant information.\n",
        "- **Implementation**:\n",
        "  - Uses a GPT-4 model with a custom prompt template.\n",
        "  - Takes the original query and reformulates it to be more specific and detailed.\n",
        "\n",
        "### 2. Step-back Prompting\n",
        "\n",
        "- **Purpose**: To generate broader, more general queries that can help retrieve relevant background information.\n",
        "- **Implementation**:\n",
        "  - Uses a GPT-4 model with a custom prompt template.\n",
        "  - Takes the original query and generates a more general \"step-back\" query.\n",
        "\n",
        "### 3. Sub-query Decomposition\n",
        "\n",
        "- **Purpose**: To break down complex queries into simpler sub-queries for more comprehensive information retrieval.\n",
        "- **Implementation**:\n",
        "  - Uses a GPT-4 model with a custom prompt template.\n",
        "  - Decomposes the original query into 2-4 simpler sub-queries.\n",
        "\n",
        "## Benefits of these Approaches\n",
        "\n",
        "1. **Improved Relevance**: Query rewriting helps in retrieving more specific and relevant information.\n",
        "2. **Better Context**: Step-back prompting allows for retrieval of broader context and background information.\n",
        "3. **Comprehensive Results**: Sub-query decomposition enables retrieval of information that covers different aspects of a complex query.\n",
        "4. **Flexibility**: Each technique can be used independently or in combination, depending on the specific use case.\n",
        "\n",
        "## Implementation Details\n",
        "\n",
        "- All techniques use OpenAI's GPT-4 model for query transformation.\n",
        "- Custom prompt templates are used to guide the model in generating appropriate transformations.\n",
        "- The code provides separate functions for each transformation technique, allowing for easy integration into existing RAG systems.\n",
        "\n",
        "## Example Use Case\n",
        "\n",
        "The code demonstrates each technique using the example query:\n",
        "\"What are the impacts of climate change on the environment?\"\n",
        "\n",
        "- **Query Rewriting** expands this to include specific aspects like temperature changes and biodiversity.\n",
        "- **Step-back Prompting** generalizes it to \"What are the general effects of climate change?\"\n",
        "- **Sub-query Decomposition** breaks it down into questions about biodiversity, oceans, weather patterns, and terrestrial environments.\n",
        "\n",
        "## Conclusion\n",
        "\n",
        "These query transformation techniques offer powerful ways to enhance the retrieval capabilities of RAG systems. By reformulating queries in various ways, they can significantly improve the relevance, context, and comprehensiveness of retrieved information. These methods are particularly valuable in domains where queries can be complex or multifaceted, such as scientific research, legal analysis, or comprehensive fact-finding tasks."
      ]
    },
    {
      "cell_type": "markdown",
      "metadata": {},
      "source": [
        "# Package Installation and Imports\n",
        "\n",
        "The cell below installs all necessary packages required to run this notebook.\n"
      ]
    },
    {
      "cell_type": "code",
      "execution_count": 9,
      "metadata": {},
      "outputs": [],
      "source": [
        "from langchain_openai import ChatOpenAI\n",
        "from langchain.prompts import PromptTemplate\n",
        "\n",
        "import os\n",
        "from dotenv import load_dotenv"
      ]
    },
    {
      "cell_type": "code",
      "execution_count": 11,
      "metadata": {},
      "outputs": [
        {
          "data": {
            "text/plain": [
              "'Here are a few rewritten queries that are more specific, detailed, and likely to retrieve relevant information:\\n\\n1. \"Explain the fundamental principles of special relativity, including time dilation, length contraction, and the speed of light limit, and how they differ from general relativity.\"\\n2. \"Describe the mathematical formulation of special relativity, including the Lorentz transformation and the concept of spacetime, and provide examples of its application in particle physics and astrophysics.\"\\n3. \"Discuss the key differences between special and general relativity, including the role of gravity, the curvature of spacetime, and the implications for our understanding of space and time.\"\\n4. \"Explain the concept of spacetime in special relativity, including its geometry, topology, and the relationship between space and time, and provide examples of its application in modern physics and engineering.\"\\n5. \"Provide a detailed overview of Albert Einstein\\'s theory of special relativity, including its development, key concepts, and historical context, and discuss its impact on our understanding of the universe.\"\\n\\nThese rewritten queries are more specific, detailed, and targeted, which can help improve retrieval in a RAG (Relevance-Accuracy-Gap) system by reducing the ambiguity and increasing the precision of the search results.'"
            ]
          },
          "execution_count": 11,
          "metadata": {},
          "output_type": "execute_result"
        }
      ],
      "source": [
        "from langchain_openai import ChatOpenAI\n",
        "\n",
        "llm = ChatOpenAI(\n",
        "    model=\"meta-llama/Llama-3.2-3B-Instruct\",\n",
        "    base_url=\"http://10.0.64.77:36363/v1\",  # URL server VLLM\n",
        "    api_key=\"EMPTY\",  # có thể là bất kỳ chuỗi nào, VLLM không kiểm tra key\n",
        "    temperature=0,\n",
        "    max_tokens=4000,\n",
        ")\n",
        "\n",
        "query_rewrite_template = \"\"\"You are an AI assistant tasked with reformulating user queries to improve retrieval in a RAG system.\n",
        "Given the original query, rewrite it to be more specific, detailed, and likely to retrieve relevant information.\n",
        "\n",
        "Original query: {original_query}\n",
        "\n",
        "Rewritten query:\"\"\"\n",
        "\n",
        "query_rewrite_prompt = PromptTemplate(\n",
        "    input_variables=[\"original_query\"],\n",
        "    template=query_rewrite_template\n",
        ")\n",
        "\n",
        "query_rewriter = query_rewrite_prompt | llm\n",
        "\n",
        "def rewrite_query(original_query):\n",
        "    response = query_rewriter.invoke({\"original_query\": original_query})\n",
        "    return response.content\n",
        "\n",
        "rewrite_query(\"Explain the theory of relativity.\")"
      ]
    },
    {
      "cell_type": "markdown",
      "metadata": {},
      "source": [
        "### 1 - Query Rewriting: Reformulating queries to improve retrieval."
      ]
    },
    {
      "cell_type": "code",
      "execution_count": 15,
      "metadata": {},
      "outputs": [
        {
          "name": "stdout",
          "output_type": "stream",
          "text": [
            "Here are a few rewritten queries that are more specific, detailed, and likely to retrieve relevant information:\n",
            "\n",
            "1. \"Explain the fundamental principles of special relativity, including time dilation, length contraction, and the speed of light limit, in the context of classical mechanics and electromagnetism.\"\n",
            "2. \"Describe the key concepts of general relativity, including curvature of spacetime, gravitational redshift, and the equivalence principle, and their implications for our understanding of gravity and the behavior of celestial objects.\"\n",
            "3. \"Discuss the historical development of the theory of relativity, from Einstein's early work on special relativity to the refinement of general relativity, and highlight the major contributions of other physicists, such as Henri Poincaré and Hermann Minkowski.\"\n",
            "4. \"Compare and contrast the special and general theories of relativity, highlighting their differences in approach, scope, and application, and explain how they have been used to make predictions and test hypotheses in various fields, including astrophysics and particle physics.\"\n",
            "5. \"Provide a detailed explanation of the mathematical framework of general relativity, including the use of Riemannian geometry, tensor analysis, and differential equations, and discuss the implications of this framework for our understanding of spacetime and gravity.\"\n",
            "\n",
            "These rewritten queries are more specific, detailed, and targeted, which should improve the retrieval of relevant information in a RAG (Relevance-Aware Graph) system.\n"
          ]
        }
      ],
      "source": [
        "# Create a prompt template for query rewriting\n",
        "query_rewrite_template = \"\"\"\n",
        "You are an AI assistant tasked with reformulating user queries to improve retrieval in a RAG system. \n",
        "Given the original query, rewrite it to be more specific, detailed, and likely to retrieve relevant information.\n",
        "Original query: {original_query}\n",
        "Rewritten query:\n",
        "\"\"\"\n",
        "\n",
        "query_rewrite_prompt = PromptTemplate(\n",
        "    input_variables=[\"original_query\"],\n",
        "    template=query_rewrite_template\n",
        ")\n",
        "\n",
        "query_rewriter = query_rewrite_prompt | llm\n",
        "\n",
        "def rewrite_query(original_query):\n",
        "    \"\"\"\n",
        "    Rewrite the original query to improve retrieval.\n",
        "    Args:\n",
        "    original_query (str): The original user query\n",
        "    Returns:\n",
        "    str: The rewritten query\n",
        "    \"\"\"\n",
        "    response = query_rewriter.invoke({\"original_query\": original_query})\n",
        "    return response.content\n",
        "\n",
        "print(rewrite_query(\"Explain the theory of relativity.\"))"
      ]
    },
    {
      "cell_type": "markdown",
      "metadata": {},
      "source": [
        "### Demonstrate on a use case"
      ]
    },
    {
      "cell_type": "code",
      "execution_count": 14,
      "metadata": {},
      "outputs": [
        {
          "name": "stdout",
          "output_type": "stream",
          "text": [
            "Original query: What are the impacts of climate change on the environment?\n",
            "\n",
            "Rewritten query: Here are a few rewritten query options:\n",
            "\n",
            "1. \"What are the most significant environmental impacts of climate change, including rising sea levels, melting glaciers, and altered ecosystems, and how can they be mitigated or adapted to?\"\n",
            "2. \"What are the direct and indirect effects of climate change on global biodiversity, including changes in species distribution, extinction rates, and ecosystem resilience, and what are the potential consequences for human well-being?\"\n",
            "3. \"What are the primary environmental consequences of climate change, such as ocean acidification, water scarcity, and increased frequency of natural disasters, and how can they be addressed through policy, technology, and individual actions?\"\n",
            "4. \"What are the specific environmental impacts of climate change on different ecosystems, including coral reefs, forests, and polar regions, and how can conservation efforts and sustainable practices be implemented to protect these ecosystems?\"\n",
            "5. \"What are the short-term and long-term environmental consequences of climate change, including changes in weather patterns, sea level rise, and increased greenhouse gas emissions, and what are the potential solutions to reduce these impacts?\"\n",
            "\n",
            "These rewritten queries are more specific, detailed, and likely to retrieve relevant information because they:\n",
            "\n",
            "* Identify specific environmental impacts of climate change\n",
            "* Specify the scope of the impact (e.g., global, local, ecosystem-specific)\n",
            "* Ask about mitigation or adaptation strategies\n",
            "* Request information on specific ecosystems or regions\n",
            "* Inquire about short-term and long-term consequences\n",
            "* Ask about potential solutions or actions to address the impacts.\n"
          ]
        }
      ],
      "source": [
        "# example query over the understanding climate change dataset\n",
        "original_query = \"What are the impacts of climate change on the environment?\"\n",
        "rewritten_query = rewrite_query(original_query)\n",
        "print(\"Original query:\", original_query)\n",
        "print(\"\\nRewritten query:\", rewritten_query)"
      ]
    },
    {
      "cell_type": "markdown",
      "metadata": {},
      "source": [
        "### 2 - Step-back Prompting: Generating broader queries for better context retrieval.\n",
        "\n"
      ]
    },
    {
      "cell_type": "code",
      "execution_count": null,
      "metadata": {},
      "outputs": [],
      "source": [
        "step_back_template = f\"\"\"\n",
        "    You are an AI assistant tasked with generating broader, more general queries to improve context retrieval in a RAG (Retrieval-Augmented Generation) system.\n",
        "    Given the original query, generate a step-back query that is more general and can help retrieve relevant background information.\n",
        "    Original query: {original_query}\n",
        "    Step-back query:\n",
        "\"\"\"\n",
        "\n",
        "step_back_prompt = PromptTemplate(\n",
        "    input_variables=[\"original_query\"],\n",
        "    template=step_back_template\n",
        ")\n",
        "\n",
        "step_back_chain = step_back_prompt | llm\n",
        "\n",
        "def generate_step_back_query(original_query):\n",
        "    \"\"\"\n",
        "    Generate a step-back query to retrieve broader context.\n",
        "    Args:\n",
        "    original_query (str): The original user query\n",
        "    Returns:\n",
        "    str: The step-back query\n",
        "    \"\"\"\n",
        "    response = step_back_chain.invoke({\"original_query\": original_query})\n",
        "    return response.content"
      ]
    },
    {
      "cell_type": "markdown",
      "metadata": {},
      "source": [
        "### Demonstrate on a use case"
      ]
    },
    {
      "cell_type": "code",
      "execution_count": 21,
      "metadata": {},
      "outputs": [
        {
          "name": "stdout",
          "output_type": "stream",
          "text": [
            "Original query: What are the impacts of climate change on the environment?\n",
            "To generate a step-back query, I'll try to identify the core concepts and themes in the original query and then ask a more general question that can help retrieve relevant background information.\n",
            "\n",
            "Step-back query: What are the effects of environmental degradation on ecosystems and human societies?\n",
            "\n",
            "This step-back query is more general because it:\n",
            "\n",
            "1. Removes the specific topic of climate change, focusing on a broader concept of environmental degradation.\n",
            "2. Emphasizes the impact on ecosystems, which can help retrieve information on the natural world and the interconnectedness of species.\n",
            "3. Includes human societies, which can lead to information on the social and economic implications of environmental degradation.\n",
            "\n",
            "By asking this more general question, the RAG system can retrieve a wider range of relevant information, including background knowledge on environmental science, ecology, and human impact on the environment.\n"
          ]
        }
      ],
      "source": [
        "# example query over the understanding climate change dataset\n",
        "original_query = \"What are the impacts of climate change on the environment?\"\n",
        "step_back_query = generate_step_back_query(original_query)\n",
        "print(\"Original query:\", original_query)\n",
        "print(step_back_query)"
      ]
    },
    {
      "cell_type": "markdown",
      "metadata": {},
      "source": [
        "### 3- Sub-query Decomposition: Breaking complex queries into simpler sub-queries."
      ]
    },
    {
      "cell_type": "code",
      "execution_count": null,
      "metadata": {},
      "outputs": [],
      "source": [
        "subquery_decomposition_template = f\"\"\"\n",
        "    You are an AI assistant tasked with breaking down complex queries into simpler sub-queries for a RAG system.\n",
        "    Given the original query, decompose it into 2-4 simpler sub-queries that, when answered together, would provide a comprehensive response to the original query.\n",
        "\n",
        "    Original query: {original_query}\n",
        "\n",
        "    example: What are the impacts of climate change on the environment?\n",
        "\n",
        "    Sub-queries:\n",
        "    1. What are the impacts of climate change on biodiversity?\n",
        "    2. How does climate change affect the oceans?\n",
        "    3. What are the effects of climate change on agriculture?\n",
        "    4. What are the impacts of climate change on human health?\n",
        "\"\"\"\n",
        "\n",
        "subquery_decomposition_prompt = PromptTemplate(\n",
        "    input_variables=[\"original_query\"],\n",
        "    template=subquery_decomposition_template\n",
        ")\n",
        "\n",
        "subquery_decomposer_chain = subquery_decomposition_prompt | llm\n",
        "\n",
        "def decompose_query(original_query: str):\n",
        "    \"\"\"\n",
        "    Decompose the original query into simpler sub-queries.\n",
        "    \n",
        "    Args:\n",
        "    original_query (str): The original complex query\n",
        "    \n",
        "    Returns:\n",
        "    List[str]: A list of simpler sub-queries\n",
        "    \"\"\"\n",
        "    response = subquery_decomposer_chain.invoke({\"original_query\":original_query}).content\n",
        "    sub_queries = [q.strip() for q in response.split('\\n') if q.strip() and not q.strip().startswith('Sub-queries:')]\n",
        "    return sub_queries"
      ]
    },
    {
      "cell_type": "markdown",
      "metadata": {},
      "source": [
        "### Demonstrate on a use case"
      ]
    },
    {
      "cell_type": "code",
      "execution_count": 26,
      "metadata": {},
      "outputs": [
        {
          "name": "stdout",
          "output_type": "stream",
          "text": [
            "Sub-queries:\n",
            "\n",
            "Here's a breakdown of the original query into 4 simpler sub-queries:\n",
            "1. What are the main causes of climate change?\n",
            "2. What are the impacts of climate change on biodiversity?\n",
            "3. How does climate change affect the oceans and water resources?\n",
            "4. What are the effects of climate change on human health and well-being?\n",
            "These sub-queries can be answered together to provide a comprehensive response to the original query, \"What are the impacts of climate change on the environment?\"\n",
            "Here's a possible response:\n",
            "\"Climate change has numerous impacts on the environment, including:\n",
            "* Loss of biodiversity due to rising temperatures, changing precipitation patterns, and increased frequency of extreme weather events (sub-query 1).\n",
            "* Rising sea levels, ocean acidification, and changes in ocean circulation patterns affecting marine ecosystems and water resources (sub-query 2).\n",
            "* Impacts on agriculture, including changes in growing seasons, crop yields, and water availability, which can lead to food insecurity and economic losses (sub-query 3).\n",
            "* Negative effects on human health, including increased risk of heat-related illnesses, respiratory problems, and the spread of disease vectors such as mosquitoes and ticks (sub-query 4).\n",
            "These impacts are interconnected and can have far-reaching consequences for the environment, human health, and the economy. Understanding the causes and effects of climate change is crucial for developing effective strategies to mitigate and adapt to its impacts.\"\n"
          ]
        }
      ],
      "source": [
        "# example query over the understanding climate change dataset\n",
        "original_query = \"What are the impacts of climate change on the environment?\"\n",
        "sub_queries = decompose_query(original_query)\n",
        "print(\"Sub-queries:\\n\")\n",
        "for i, sub_query in enumerate(sub_queries, 1):\n",
        "    print(sub_query)"
      ]
    },
    {
      "cell_type": "markdown",
      "metadata": {},
      "source": [
        "![](https://europe-west1-rag-techniques-views-tracker.cloudfunctions.net/rag-techniques-tracker?notebook=all-rag-techniques--query-transformations)"
      ]
    }
  ],
  "metadata": {
    "colab": {
      "name": "",
      "provenance": [],
      "toc_visible": true
    },
    "kernelspec": {
      "display_name": "workdir",
      "language": "python",
      "name": "python3"
    },
    "language_info": {
      "codemirror_mode": {
        "name": "ipython",
        "version": 3
      },
      "file_extension": ".py",
      "mimetype": "text/x-python",
      "name": "python",
      "nbconvert_exporter": "python",
      "pygments_lexer": "ipython3",
      "version": "3.10.18"
    }
  },
  "nbformat": 4,
  "nbformat_minor": 2
}
