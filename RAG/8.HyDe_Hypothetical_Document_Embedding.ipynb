{
  "cells": [
    {
      "cell_type": "markdown",
      "metadata": {},
      "source": [
        "# Hypothetical Document Embedding (HyDE) in Document Retrieval\n",
        "\n",
        "## Overview\n",
        "\n",
        "This code implements a Hypothetical Document Embedding (HyDE) system for document retrieval. HyDE is an innovative approach that transforms query questions into hypothetical documents containing the answer, aiming to bridge the gap between query and document distributions in vector space.\n",
        "\n",
        "## Motivation\n",
        "\n",
        "Traditional retrieval methods often struggle with the semantic gap between short queries and longer, more detailed documents. HyDE addresses this by expanding the query into a full hypothetical document, potentially improving retrieval relevance by making the query representation more similar to the document representations in the vector space.\n",
        "\n",
        "## Key Components\n",
        "\n",
        "1. PDF processing and text chunking\n",
        "2. Vector store creation using FAISS and OpenAI embeddings\n",
        "3. Language model for generating hypothetical documents\n",
        "4. Custom HyDERetriever class implementing the HyDE technique\n",
        "\n",
        "## Method Details\n",
        "\n",
        "### Document Preprocessing and Vector Store Creation\n",
        "\n",
        "1. The PDF is processed and split into chunks.\n",
        "2. A FAISS vector store is created using OpenAI embeddings for efficient similarity search.\n",
        "\n",
        "### Hypothetical Document Generation\n",
        "\n",
        "1. A language model (GPT-4) is used to generate a hypothetical document that answers the given query.\n",
        "2. The generation is guided by a prompt template that ensures the hypothetical document is detailed and matches the chunk size used in the vector store.\n",
        "\n",
        "### Retrieval Process\n",
        "\n",
        "The `HyDERetriever` class implements the following steps:\n",
        "\n",
        "1. Generate a hypothetical document from the query using the language model.\n",
        "2. Use the hypothetical document as the search query in the vector store.\n",
        "3. Retrieve the most similar documents to this hypothetical document.\n",
        "\n",
        "## Key Features\n",
        "\n",
        "1. Query Expansion: Transforms short queries into detailed hypothetical documents.\n",
        "2. Flexible Configuration: Allows adjustment of chunk size, overlap, and number of retrieved documents.\n",
        "3. Integration with OpenAI Models: Uses GPT-4 for hypothetical document generation and OpenAI embeddings for vector representation.\n",
        "\n",
        "## Benefits of this Approach\n",
        "\n",
        "1. Improved Relevance: By expanding queries into full documents, HyDE can potentially capture more nuanced and relevant matches.\n",
        "2. Handling Complex Queries: Particularly useful for complex or multi-faceted queries that might be difficult to match directly.\n",
        "3. Adaptability: The hypothetical document generation can adapt to different types of queries and document domains.\n",
        "4. Potential for Better Context Understanding: The expanded query might better capture the context and intent behind the original question.\n",
        "\n",
        "## Implementation Details\n",
        "\n",
        "1. Uses OpenAI's ChatGPT model for hypothetical document generation.\n",
        "2. Employs FAISS for efficient similarity search in the vector space.\n",
        "3. Allows for easy visualization of both the hypothetical document and retrieved results.\n",
        "\n",
        "## Conclusion\n",
        "\n",
        "Hypothetical Document Embedding (HyDE) represents an innovative approach to document retrieval, addressing the semantic gap between queries and documents. By leveraging advanced language models to expand queries into hypothetical documents, HyDE has the potential to significantly improve retrieval relevance, especially for complex or nuanced queries. This technique could be particularly valuable in domains where understanding query intent and context is crucial, such as legal research, academic literature review, or advanced information retrieval systems."
      ]
    },
    {
      "cell_type": "markdown",
      "metadata": {},
      "source": [
        "# Package Installation and Imports\n",
        "\n",
        "The cell below installs all necessary packages required to run this notebook.\n"
      ]
    },
    {
      "cell_type": "code",
      "execution_count": 7,
      "metadata": {},
      "outputs": [],
      "source": [
        "import os\n",
        "import sys\n",
        "from dotenv import load_dotenv\n",
        "\n",
        "from langchain_openai import ChatOpenAI\n",
        "\n",
        "llm = ChatOpenAI(\n",
        "    model=\"meta-llama/LLama-3.2-3B-Instruct\",\n",
        "    base_url=\"http://10.0.64.77:36363/v1\",\n",
        "    api_key=\"EMPTY\",  # Chuỗi bất kỳ, nma bắt buộc có\n",
        "    temperature=0,\n",
        "    max_tokens=4000,\n",
        ")"
      ]
    },
    {
      "cell_type": "markdown",
      "metadata": {},
      "source": [
        "### Define document(s) path"
      ]
    },
    {
      "cell_type": "markdown",
      "metadata": {},
      "source": [
        "import os\n",
        "os.makedirs('data', exist_ok=True)\n",
        "\n",
        "!wget -O data/Understanding_Climate_Change.pdf https://raw.githubusercontent.com/NirDiamant/RAG_TECHNIQUES/main/data/Understanding_Climate_Change.pdf"
      ]
    },
    {
      "cell_type": "code",
      "execution_count": 8,
      "metadata": {},
      "outputs": [],
      "source": [
        "path = \"/data_hdd_16t/khanhtran/LLM/RAG/data/8.HyDE_doc/Understanding_Climate_Change.pdf\""
      ]
    },
    {
      "cell_type": "markdown",
      "metadata": {},
      "source": [
        "### Define the HyDe retriever class - creating vector store, generating hypothetical document, and retrieving"
      ]
    },
    {
      "cell_type": "code",
      "execution_count": 9,
      "metadata": {},
      "outputs": [],
      "source": [
        "from langchain.embeddings.base import Embeddings\n",
        "class LocalEmbeddingWrapper(Embeddings):\n",
        "    def __init__(self, model_path, device=\"cuda\"):\n",
        "        from sentence_transformers import SentenceTransformer\n",
        "        self.model = SentenceTransformer(model_path, device=device)\n",
        "\n",
        "    def embed_documents(self, texts: list[str]) -> list[list[float]]:\n",
        "        return self.model.encode(texts, convert_to_numpy=True).tolist()\n",
        "\n",
        "    def embed_query(self, text: str) -> list[float]:\n",
        "        return self.model.encode([text], convert_to_numpy=True)[0].tolist()"
      ]
    },
    {
      "cell_type": "code",
      "execution_count": null,
      "metadata": {},
      "outputs": [],
      "source": [
        "from langchain_community.document_loaders import PyPDFLoader\n",
        "from langchain.text_splitter import RecursiveCharacterTextSplitter\n",
        "from langchain.vectorstores import FAISS\n",
        "from sentence_transformers import SentenceTransformer\n",
        "\n",
        "def encode_pdf(filepath, chunk_size=500, chunk_overlap=100):\n",
        "    loader = PyPDFLoader(filepath)\n",
        "    documents = loader.load()\n",
        "\n",
        "    text_splitter = RecursiveCharacterTextSplitter(\n",
        "        chunk_size=chunk_size, chunk_overlap=chunk_overlap\n",
        "    )\n",
        "    embeddings = LocalEmbeddingWrapper(\"/data_hdd_16t/khanhtran/bge-m3\", device=\"cuda\")\n",
        "    texts = text_splitter.split_documents(documents)\n",
        "    vectorstore = FAISS.from_documents(texts, embeddings)\n",
        "    return vectorstore"
      ]
    },
    {
      "cell_type": "code",
      "execution_count": 11,
      "metadata": {},
      "outputs": [],
      "source": [
        "\n",
        "from langchain_core.prompts import PromptTemplate\n",
        "\n",
        "class HyDERetriever:\n",
        "    def __init__(self, files_path, chunk_size=500, chunk_overlap=100):\n",
        "        self.llm = ChatOpenAI(\n",
        "            model=\"meta-llama/Llama-3.2-3B-Instruct\",\n",
        "            base_url=\"http://10.0.64.77:36363/v1\",  # URL server VLLM\n",
        "            api_key=\"EMPTY\",  # có thể là bất kỳ chuỗi nào, VLLM không kiểm tra key\n",
        "            temperature=0,\n",
        "            max_tokens=4000,\n",
        "        )\n",
        "        \n",
        "        self.chunk_size = chunk_size\n",
        "        self.chunk_overlap = chunk_overlap\n",
        "        self.vectorstore = encode_pdf(files_path, chunk_size=self.chunk_size, chunk_overlap=self.chunk_overlap)\n",
        "    \n",
        "        self.hyde_prompt = PromptTemplate(\n",
        "            input_variables=[\"query\", \"chunk_size\"],\n",
        "            template=\"\"\"\n",
        "                Given the question '{query}', generate a hypothetical document that directly answers this question. \n",
        "                The document should be detailed and in-depth.\n",
        "                The document size has be exactly {chunk_size} characters.\n",
        "            \"\"\"\n",
        "        )\n",
        "        self.hyde_chain = self.hyde_prompt | self.llm\n",
        "\n",
        "    def generate_hypothetical_document(self, query):\n",
        "        input_variables = {\"query\": query, \"chunk_size\": self.chunk_size}\n",
        "        return self.hyde_chain.invoke(input_variables).content\n",
        "\n",
        "    def retrieve(self, query, k=3):\n",
        "        hypothetical_doc = self.generate_hypothetical_document(query)\n",
        "        similar_docs = self.vectorstore.similarity_search(hypothetical_doc, k=k)\n",
        "        return similar_docs, hypothetical_doc"
      ]
    },
    {
      "cell_type": "markdown",
      "metadata": {},
      "source": [
        "### Create a HyDe retriever instance"
      ]
    },
    {
      "cell_type": "code",
      "execution_count": 12,
      "metadata": {},
      "outputs": [],
      "source": [
        "retriever = HyDERetriever(path)"
      ]
    },
    {
      "cell_type": "markdown",
      "metadata": {},
      "source": [
        "### Demonstrate on a use case"
      ]
    },
    {
      "cell_type": "code",
      "execution_count": 13,
      "metadata": {},
      "outputs": [],
      "source": [
        "test_query = \"What is the main cause of climate change?\"\n",
        "results, hypothetical_doc = retriever.retrieve(test_query)"
      ]
    },
    {
      "cell_type": "markdown",
      "metadata": {},
      "source": [
        "### Plot the hypothetical document and the retrieved documnets "
      ]
    },
    {
      "cell_type": "code",
      "execution_count": 14,
      "metadata": {},
      "outputs": [],
      "source": [
        "import textwrap\n",
        "\n",
        "def text_wrap(text, width=100):\n",
        "    \"\"\"\n",
        "    Wrap text to specified width for better readability\n",
        "    \n",
        "    Args:\n",
        "        text: Text to wrap\n",
        "        width: Maximum line width (default: 100)\n",
        "    \n",
        "    Returns:\n",
        "        Wrapped text string\n",
        "    \"\"\"\n",
        "    return '\\n'.join(textwrap.wrap(text, width=width))\n",
        "\n",
        "def show_context(docs_content, width=100):\n",
        "    \"\"\"\n",
        "    Display retrieved documents in a formatted way\n",
        "    \n",
        "    Args:\n",
        "        docs_content: List of document content strings\n",
        "        width: Maximum line width for wrapping (default: 100)\n",
        "    \"\"\"\n",
        "    print(\"Retrieved Documents:\\n\")\n",
        "    print(\"=\" * width)\n",
        "    \n",
        "    for i, doc in enumerate(docs_content, 1):\n",
        "        print(f\"\\nDocument {i}:\")\n",
        "        print(\"-\" * width)\n",
        "        print(text_wrap(doc, width=width))\n",
        "        print(\"-\" * width)\n",
        "    \n",
        "    print(\"\\n\" + \"=\" * width)"
      ]
    },
    {
      "cell_type": "code",
      "execution_count": 15,
      "metadata": {},
      "outputs": [
        {
          "name": "stdout",
          "output_type": "stream",
          "text": [
            "Hypothetical_doc:\n",
            "\n",
            "**Climate Change: The Main Cause**  Climate change is primarily attributed to human activities,\n",
            "particularly the emission of greenhouse gases (GHGs) from burning fossil fuels, deforestation, and\n",
            "land-use changes. The main causes are:  1. **Carbon dioxide (CO2) emissions**: Released through\n",
            "fossil fuel combustion (80%), deforestation (15%), and industrial processes (5%). 2. **Methane (CH4)\n",
            "emissions**: Primarily from agriculture (30%), natural gas production and transport (20%), and\n",
            "landfills (10%). 3. **Nitrous oxide (N2O) emissions**: Mainly from agriculture (60%), industrial\n",
            "processes (20%), and fossil fuel combustion (10%).  These GHGs trap heat in the atmosphere, leading\n",
            "to global warming and associated climate change impacts.\n",
            "\n",
            "Retrieved Documents:\n",
            "\n",
            "====================================================================================================\n",
            "\n",
            "Document 1:\n",
            "----------------------------------------------------------------------------------------------------\n",
            "predict future trends. The evidence overwhelmingly shows that recent changes are primarily  driven\n",
            "by human activities, particularly the emission of greenhouse gases.  Chapter 2: Causes of Climate\n",
            "Change  Greenhouse Gases  The primary cause of recent climate change is the increase in greenhouse\n",
            "gases in the  atmosphere. Greenhouse gases, such as carbon dioxide (CO2), methane (CH4), and nitrous\n",
            "oxide (N2O), trap heat from the sun, creating a \"greenhouse effect.\" This effect is essential\n",
            "----------------------------------------------------------------------------------------------------\n",
            "\n",
            "Document 2:\n",
            "----------------------------------------------------------------------------------------------------\n",
            "Understanding Climate Change  Chapter 1: Introduction to Climate Change  Climate change refers to\n",
            "significant, long-term changes in the global climate. The term  \"global climate\" encompasses the\n",
            "planet's overall weather patterns, including temperature,  precipitation, and wind patterns, over an\n",
            "extended period. Over the past century, human  activities, particularly the burning of fossil fuels\n",
            "and deforestation, have significantly  contributed to climate change.  Historical Context\n",
            "----------------------------------------------------------------------------------------------------\n",
            "\n",
            "Document 3:\n",
            "----------------------------------------------------------------------------------------------------\n",
            "oxide (N2O), trap heat from the sun, creating a \"greenhouse effect.\" This effect is essential  for\n",
            "life on Earth, as it keeps the planet warm enough to support life. However, human  activities have\n",
            "intensified this natural process, leading to a warmer climate.  Fossil Fuels  Burning fossil fuels\n",
            "for energy releases large amounts of CO2. This includes coal, oil, and  natural gas used for\n",
            "electricity, heating, and transportation. The industrial revolution marked\n",
            "----------------------------------------------------------------------------------------------------\n",
            "\n",
            "====================================================================================================\n"
          ]
        }
      ],
      "source": [
        "docs_content = [doc.page_content for doc in results]\n",
        "\n",
        "print(\"Hypothetical_doc:\\n\")\n",
        "print(text_wrap(hypothetical_doc)+\"\\n\")\n",
        "show_context(docs_content)"
      ]
    },
    {
      "cell_type": "markdown",
      "metadata": {},
      "source": [
        "![](https://europe-west1-rag-techniques-views-tracker.cloudfunctions.net/rag-techniques-tracker?notebook=all-rag-techniques--hyde-hypothetical-document-embedding)"
      ]
    }
  ],
  "metadata": {
    "colab": {
      "name": "",
      "provenance": [],
      "toc_visible": true
    },
    "kernelspec": {
      "display_name": "workdir",
      "language": "python",
      "name": "python3"
    },
    "language_info": {
      "codemirror_mode": {
        "name": "ipython",
        "version": 3
      },
      "file_extension": ".py",
      "mimetype": "text/x-python",
      "name": "python",
      "nbconvert_exporter": "python",
      "pygments_lexer": "ipython3",
      "version": "3.10.18"
    }
  },
  "nbformat": 4,
  "nbformat_minor": 2
}
