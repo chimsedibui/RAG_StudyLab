{
  "cells": [
    {
      "cell_type": "markdown",
      "metadata": {},
      "source": [
        "# Propositions Chunking"
      ]
    },
    {
      "cell_type": "markdown",
      "metadata": {},
      "source": [
        "### Overview\n",
        "\n",
        "This code implements the proposition chunking method, based on [research from Tony Chen, et. al.](https://doi.org/10.48550/arXiv.2312.06648). The system break downs the input text into propositions that are atomic, factual, self-contained, and concise in nature, encodes the propositions into a vectorstore, which can be later used for retrieval\n",
        "\n",
        "### Key Components\n",
        "\n",
        "1. **Document Chunking:** Splitting a document into manageable pieces for analysis.\n",
        "2. **Proposition Generation:** Using LLMs to break down document chunks into factual, self-contained propositions.\n",
        "3. **Proposition Quality Check:** Evaluating generated propositions based on accuracy, clarity, completeness, and conciseness.\n",
        "4. **Embedding and Vector Store:** Embedding both propositions and larger chunks of the document into a vector store for efficient retrieval.\n",
        "5. **Retrieval and Comparison:** Testing the retrieval system with different query sizes and comparing results from the proposition-based model with the larger chunk-based model.\n",
        "\n",
        "\n",
        "### Motivation\n",
        "\n",
        "The motivation behind the propositions chunking method is to build a system that breaks down a text document into concise, factual propositions for more granular and precise information retrieval. Using propositions allows for finer control and better handling of specific queries, particularly for extracting knowledge from detailed or complex texts. The comparison between using smaller proposition chunks and larger document chunks aims to evaluate the effectiveness of granular information retrieval.\n",
        "\n",
        "### Method Details\n",
        "\n",
        "1. **Loading Environment Variables:** The code begins by loading environment variables (e.g., API keys for the LLM service) to ensure that the system can access the necessary resources.\n",
        "   \n",
        "2. **Document Chunking:**\n",
        "   - The input document is split into smaller pieces (chunks) using `RecursiveCharacterTextSplitter`. This ensures that each chunk is of manageable size for the LLM to process.\n",
        "   \n",
        "3. **Proposition Generation:**\n",
        "   - Propositions are generated from each chunk using an LLM (in this case, \"llama-3.1-70b-versatile\"). The output is structured as a list of factual, self-contained statements that can be understood without additional context.\n",
        "   \n",
        "4. **Quality Check:**\n",
        "   - A second LLM evaluates the quality of the propositions by scoring them on accuracy, clarity, completeness, and conciseness. Propositions that meet the required thresholds in all categories are retained.\n",
        "   \n",
        "5. **Embedding Propositions:**\n",
        "   - Propositions that pass the quality check are embedded into a vector store using the `OllamaEmbeddings` model. This allows for similarity-based retrieval of propositions when queries are made.\n",
        "   \n",
        "6. **Retrieval and Comparison:**\n",
        "   - Two retrieval systems are built: one using the proposition-based chunks and another using larger document chunks. Both are tested with several queries to compare their performance and the precision of the returned results.\n",
        "\n",
        "### Benefits\n",
        "\n",
        "- **Granularity:** By breaking the document into small factual propositions, the system allows for highly specific retrieval, making it easier to extract precise answers from large or complex documents.\n",
        "- **Quality Assurance:** The use of a quality-checking LLM ensures that the generated propositions meet specific standards, improving the reliability of the retrieved information.\n",
        "- **Flexibility in Retrieval:** The comparison between proposition-based and larger chunk-based retrieval allows for evaluating the trade-offs between granularity and broader context in search results.\n",
        "\n",
        "### Implementation\n",
        "\n",
        "1. **Proposition Generation:** The LLM is used in conjunction with a custom prompt to generate factual statements from the document chunks.\n",
        "2. **Quality Checking:** The generated propositions are passed through a grading system that evaluates accuracy, clarity, completeness, and conciseness.\n",
        "3. **Vector Store Integration:** Propositions are stored in a FAISS vector store after being embedded using a pre-trained embedding model, allowing for efficient similarity-based search and retrieval.\n",
        "4. **Query Testing:** Multiple test queries are made to the vector stores (proposition-based and larger chunks) to compare the retrieval performance.\n",
        "\n",
        "### Summary\n",
        "\n",
        "This code presents a robust method for breaking down a document into self-contained propositions using LLMs. The system performs a quality check on each proposition, embeds them in a vector store, and retrieves the most relevant information based on user queries. The ability to compare granular propositions against larger document chunks provides insight into which method yields more accurate or useful results for different types of queries. The approach emphasizes the importance of high-quality proposition generation and retrieval for precise information extraction from complex documents."
      ]
    },
    {
      "cell_type": "markdown",
      "metadata": {},
      "source": [
        "# Package Installation and Imports\n",
        "\n",
        "The cell below installs all necessary packages required to run this notebook.\n"
      ]
    },
    {
      "cell_type": "markdown",
      "metadata": {},
      "source": [
        "### Test Document"
      ]
    },
    {
      "cell_type": "code",
      "execution_count": null,
      "metadata": {},
      "outputs": [],
      "source": [
        "sample_content = \"\"\"Paul Graham's essay \"Founder Mode,\" published in September 2024, challenges conventional wisdom about scaling startups, arguing that founders should maintain their unique management style rather than adopting traditional corporate practices as their companies grow.\n",
        "Conventional Wisdom vs. Founder Mode\n",
        "The essay argues that the traditional advice given to growing companies—hiring good people and giving them autonomy—often fails when applied to startups.\n",
        "This approach, suitable for established companies, can be detrimental to startups where the founder's vision and direct involvement are crucial. \"Founder Mode\" is presented as an emerging paradigm that is not yet fully understood or documented, contrasting with the conventional \"manager mode\" often advised by business schools and professional managers.\n",
        "Unique Founder Abilities\n",
        "Founders possess unique insights and abilities that professional managers do not, primarily because they have a deep understanding of their company's vision and culture.\n",
        "Graham suggests that founders should leverage these strengths rather than conform to traditional managerial practices. \"Founder Mode\" is an emerging paradigm that is not yet fully understood or documented, with Graham hoping that over time, it will become as well-understood as the traditional manager mode, allowing founders to maintain their unique approach even as their companies scale.\n",
        "Challenges of Scaling Startups\n",
        "As startups grow, there is a common belief that they must transition to a more structured managerial approach. However, many founders have found this transition problematic, as it often leads to a loss of the innovative and agile spirit that drove the startup's initial success.\n",
        "Brian Chesky, co-founder of Airbnb, shared his experience of being advised to run the company in a traditional managerial style, which led to poor outcomes. He eventually found success by adopting a different approach, influenced by how Steve Jobs managed Apple.\n",
        "Steve Jobs' Management Style\n",
        "Steve Jobs' management approach at Apple served as inspiration for Brian Chesky's \"Founder Mode\" at Airbnb. One notable practice was Jobs' annual retreat for the 100 most important people at Apple, regardless of their position on the organizational chart\n",
        ". This unconventional method allowed Jobs to maintain a startup-like environment even as Apple grew, fostering innovation and direct communication across hierarchical levels. Such practices emphasize the importance of founders staying deeply involved in their companies' operations, challenging the traditional notion of delegating responsibilities to professional managers as companies scale.\n",
        "\"\"\""
      ]
    },
    {
      "cell_type": "markdown",
      "metadata": {},
      "source": [
        "### Chunking"
      ]
    },
    {
      "cell_type": "code",
      "execution_count": null,
      "metadata": {},
      "outputs": [],
      "source": [
        "from langchain.text_splitter import RecursiveCharacterTextSplitter\n",
        "from langchain_core.documents import Document\n",
        "from langchain_community.vectorstores import FAISS\n",
        "from langchain_community.embeddings import HuggingFaceEmbeddings\n",
        "\n",
        "embedding_model = HuggingFaceEmbeddings(model_name='sentence-transformers/all-MiniLM-L6-v2', show_progress=True)\n",
        "\n",
        "docs_list = [\n",
        "    Document(\n",
        "        page_content=sample_content, \n",
        "        metadata={\"Title\": \"Paul Graham's Founder Mode Essay\", \"Source\": \"https://www.perplexity.ai/page/paul-graham-s-founder-mode-ess-t9TCyvkqRiyMQJWsHr0fnQ\"}\n",
        "    )\n",
        "]\n",
        "\n",
        "text_splitter = RecursiveCharacterTextSplitter.from_tiktoken_encoder(\n",
        "    chunk_size=200, chunk_overlap=50\n",
        ")\n",
        "\n",
        "doc_splits = text_splitter.split_documents(docs_list)"
      ]
    },
    {
      "cell_type": "code",
      "execution_count": 113,
      "metadata": {},
      "outputs": [
        {
          "data": {
            "text/plain": [
              "[Document(metadata={'Title': \"Paul Graham's Founder Mode Essay\", 'Source': 'https://www.perplexity.ai/page/paul-graham-s-founder-mode-ess-t9TCyvkqRiyMQJWsHr0fnQ', 'chunk_id': 1}, page_content='Paul Graham\\'s essay \"Founder Mode,\" published in September 2024, challenges conventional wisdom about scaling startups, arguing that founders should maintain their unique management style rather than adopting traditional corporate practices as their companies grow.\\nConventional Wisdom vs. Founder Mode\\nThe essay argues that the traditional advice given to growing companies—hiring good people and giving them autonomy—often fails when applied to startups.\\nThis approach, suitable for established companies, can be detrimental to startups where the founder\\'s vision and direct involvement are crucial. \"Founder Mode\" is presented as an emerging paradigm that is not yet fully understood or documented, contrasting with the conventional \"manager mode\" often advised by business schools and professional managers.\\nUnique Founder Abilities\\nFounders possess unique insights and abilities that professional managers do not, primarily because they have a deep understanding of their company\\'s vision and culture.'),\n",
              " Document(metadata={'Title': \"Paul Graham's Founder Mode Essay\", 'Source': 'https://www.perplexity.ai/page/paul-graham-s-founder-mode-ess-t9TCyvkqRiyMQJWsHr0fnQ', 'chunk_id': 2}, page_content='Unique Founder Abilities\\nFounders possess unique insights and abilities that professional managers do not, primarily because they have a deep understanding of their company\\'s vision and culture.\\nGraham suggests that founders should leverage these strengths rather than conform to traditional managerial practices. \"Founder Mode\" is an emerging paradigm that is not yet fully understood or documented, with Graham hoping that over time, it will become as well-understood as the traditional manager mode, allowing founders to maintain their unique approach even as their companies scale.\\nChallenges of Scaling Startups\\nAs startups grow, there is a common belief that they must transition to a more structured managerial approach. However, many founders have found this transition problematic, as it often leads to a loss of the innovative and agile spirit that drove the startup\\'s initial success.'),\n",
              " Document(metadata={'Title': \"Paul Graham's Founder Mode Essay\", 'Source': 'https://www.perplexity.ai/page/paul-graham-s-founder-mode-ess-t9TCyvkqRiyMQJWsHr0fnQ', 'chunk_id': 3}, page_content='Brian Chesky, co-founder of Airbnb, shared his experience of being advised to run the company in a traditional managerial style, which led to poor outcomes. He eventually found success by adopting a different approach, influenced by how Steve Jobs managed Apple.\\nSteve Jobs\\' Management Style\\nSteve Jobs\\' management approach at Apple served as inspiration for Brian Chesky\\'s \"Founder Mode\" at Airbnb. One notable practice was Jobs\\' annual retreat for the 100 most important people at Apple, regardless of their position on the organizational chart\\n. This unconventional method allowed Jobs to maintain a startup-like environment even as Apple grew, fostering innovation and direct communication across hierarchical levels. Such practices emphasize the importance of founders staying deeply involved in their companies\\' operations, challenging the traditional notion of delegating responsibilities to professional managers as companies scale.')]"
            ]
          },
          "execution_count": 113,
          "metadata": {},
          "output_type": "execute_result"
        }
      ],
      "source": [
        "doc_splits"
      ]
    },
    {
      "cell_type": "code",
      "execution_count": null,
      "metadata": {},
      "outputs": [],
      "source": [
        "# Adding chunk_id\n",
        "for i, doc in enumerate(doc_splits):\n",
        "    doc.metadata['chunk_id'] = i+1 "
      ]
    },
    {
      "cell_type": "markdown",
      "metadata": {},
      "source": [
        "### Generate Propositions"
      ]
    },
    {
      "cell_type": "code",
      "execution_count": null,
      "metadata": {},
      "outputs": [
        {
          "name": "stdout",
          "output_type": "stream",
          "text": [
            "[\n",
            "  \"Paul Graham published an essay titled 'Founder Mode' in September 2024.\",\n",
            "  \"The essay challenges conventional wisdom about scaling startups.\",\n",
            "  \"Graham argues that founders should maintain their unique management style instead of adopting corporate practices.\",\n",
            "  \"Conventional advice, such as hiring good people and giving them autonomy, often fails for startups.\",\n",
            "  \"Graham introduces the concept of 'Founder Mode', which is different from the 'manager mode' taught in business schools and by professional managers.\",\n",
            "  \"Startups require the founder's direct involvement and understanding of the company's vision and culture, which professional managers lack.\"] \n",
            "[\n",
            "  \"Founders have unique insights and abilities that professional managers do not, primarily due to their deep understanding of the company's vision and culture.\",\n",
            "  \"Graham suggests that founders should leverage their strengths instead of adhering to conventional managerial practices. 'Founder Mode' is an emerging paradigm that is not yet fully understood or documented, with Graham hoping that over time, it will become as well-understood as the conventional managerial approach, enabling founders to preserve their distinctive approach even as their companies grow.\"\n",
            "  \"Transitioning to a more structured managerial approach as startups scale is believed to be necessary, but many founders find this transition challenging, as it often results in the loss of the innovative and adaptable spirit that initially fueled the startup's triumph.\"\n",
            "] \n",
            "[\n",
            "  \"Brian Chesky, co-founder of Airbnb, learned from his poor outcomes when following a traditional management style.\",\n",
            "  \"Brian Chesky adopted a different approach, influenced by Steve Jobs' management style at Apple.\",\n",
            "  \"Steve Jobs' management approach at Apple involved holding an annual retreat for the 100 most important people, regardless of their position on the organizational chart.\",\n",
            "  \"This unconventional method allowed Steve Jobs to maintain a startup-like environment even as Apple grew, fostering innovation and direct communication across hierarchical levels.\",\n",
            "  \"Steve Jobs emphasized the importance of founders staying deeply involved in their companies' operations, challenging the traditional notion of delegating responsibilities to professional managers as companies scale.\"\n",
            "] \n"
          ]
        }
      ],
      "source": [
        "from typing import List\n",
        "from langchain_core.prompts import ChatPromptTemplate, FewShotChatMessagePromptTemplate\n",
        "from pydantic import BaseModel, Field\n",
        "from langchain.output_parsers import PydanticOutputParser\n",
        "from langchain_groq import ChatGroq\n",
        "\n",
        "class GeneratePropositions(BaseModel):\n",
        "    propositions: List[str] = Field(\n",
        "        description=\"List of propositions (factual, self-contained, and concise information)\"\n",
        "    )\n",
        "\n",
        "llm = ChatGroq(model=\"allam-2-7b\", temperature=0)\n",
        "parser = PydanticOutputParser(pydantic_object=GeneratePropositions)\n",
        "\n",
        "format_instructions = parser.get_format_instructions()\n",
        "\n",
        "system = f\"\"\"\n",
        "    Please break down the following text into simple, self-contained propositions. \n",
        "    {format_instructions}\n",
        "\n",
        "    Ensure that each proposition meets the following criteria:\n",
        "    1. Express a Single Fact: Each proposition should state one specific fact or claim.\n",
        "    2. Be Understandable Without Context: The proposition should be self-contained, meaning it can be understood without needing additional context.\n",
        "    3. Use Full Names, Not Pronouns: Avoid pronouns or ambiguous references; use full entity names.\n",
        "    4. Include Relevant Dates/Qualifiers: If applicable, include necessary dates, times, and qualifiers to make the fact precise.\n",
        "    5. Contain One Subject-Predicate Relationship: Focus on a single subject and its corresponding action or attribute, without conjunctions or multiple clauses.\n",
        "    \"\"\"\n",
        "\n",
        "proposition_examples = [\n",
        "    {\"document\": \"In 1969, Neil Armstrong became the first person to walk on the Moon during the Apollo 11 mission.\",\n",
        "     \"propositions\": ['Neil Armstrong was an astronaut.', 'Neil Armstrong walked on the Moon in 1969.']\n",
        "    },\n",
        "    {\"document\": \"The Eiffel Tower, located in Paris, France, was completed in 1889 and stands at a height of 324 meters.\",\n",
        "     \"propositions\": ['The Eiffel Tower is located in Paris, France.', 'The Eiffel Tower was completed in 1889.', 'The Eiffel Tower is 324 meters tall.']\n",
        "    },\n",
        "    {\"document\": \"The Great Wall of China, built over several dynasties, stretches approximately 13,170 miles and was primarily constructed to protect against invasions.\",\n",
        "     \"propositions\": ['The Great Wall of China was built over several dynasties.', 'The Great Wall of China is approximately 13,170 miles long.', 'The Great Wall of China was constructed to protect against invasions.']\n",
        "    }\n",
        "]\n",
        "\n",
        "example_proposition_prompt = ChatPromptTemplate.from_messages(\n",
        "    [(\"system\", \"{system}\"), (\"human\", \"{document}\"), (\"ai\", \"{propositions}\")]\n",
        ")\n",
        "example_proposition_prompt = example_proposition_prompt.partial(system=system)\n",
        "\n",
        "few_shot_prompt = FewShotChatMessagePromptTemplate(\n",
        "    example_prompt = example_proposition_prompt,\n",
        "    examples = proposition_examples,\n",
        ")\n",
        "\n",
        "prompt = ChatPromptTemplate.from_messages(\n",
        "    [few_shot_prompt, (\"human\", \"{document}\")]\n",
        ")\n",
        "\n",
        "proposition_generator = prompt | llm \n",
        "texts = []\n",
        "\n",
        "for i in range(len(doc_splits)):\n",
        "    response = proposition_generator.invoke({\"document\": doc_splits[i].page_content})\n",
        "    if isinstance(response, dict):\n",
        "        text = response.get(\"content\") or response.get(\"message\") or response.get(\"text\")\n",
        "    else:\n",
        "        text = getattr(response, \"content\", None) or getattr(response, \"text\", None)\n",
        "    if text is None:\n",
        "        text = str(response)\n",
        "    print(text)"
      ]
    },
    {
      "cell_type": "code",
      "execution_count": 170,
      "metadata": {},
      "outputs": [],
      "source": [
        "parsed_texts = [\n",
        "    [\n",
        "    \"Paul Graham published an essay titled 'Founder Mode' in September 2024.\",\n",
        "    \"The essay challenges conventional wisdom about scaling startups.\",\n",
        "    \"Graham argues that founders should maintain their unique management style instead of adopting corporate practices.\",\n",
        "    \"Conventional advice, such as hiring good people and giving them autonomy, often fails for startups.\",\n",
        "    \"Graham introduces the concept of 'Founder Mode', which is different from the 'manager mode' taught in business schools and by professional managers.\",\n",
        "    \"Startups require the founder's direct involvement and understanding of the company's vision and culture, which professional managers lack.\"],\n",
        "    [\n",
        "    \"Founders have unique insights and abilities that professional managers do not, primarily due to their deep understanding of the company's vision and culture.\",\n",
        "    \"Graham suggests that founders should leverage their strengths instead of adhering to conventional managerial practices. \"\n",
        "    \"'Founder Mode' is an emerging paradigm that is not yet fully understood or documented, with Graham hoping that over time, it will become as well-understood as the conventional managerial approach, enabling founders to preserve their distinctive approach even as their companies grow.\",\n",
        "    \"Transitioning to a more structured managerial approach as startups scale is believed to be necessary, but many founders find this transition challenging, as it often results in the loss of the innovative and adaptable spirit that initially fueled the startup's triumph.\"\n",
        "    ],\n",
        "    [\n",
        "    \"Brian Chesky, co-founder of Airbnb, learned from his poor outcomes when following a traditional management style.\",\n",
        "    \"Brian Chesky adopted a different approach, influenced by Steve Jobs' management style at Apple.\",\n",
        "    \"Steve Jobs' management approach at Apple involved holding an annual retreat for the 100 most important people, regardless of their position on the organizational chart.\",\n",
        "    \"This unconventional method allowed Steve Jobs to maintain a startup-like environment even as Apple grew, fostering innovation and direct communication across hierarchical levels.\",\n",
        "    \"Steve Jobs emphasized the importance of founders staying deeply involved in their companies' operations, challenging the traditional notion of delegating responsibilities to professional managers as companies scale.\"\n",
        "    ]\n",
        "]\n",
        "\n",
        "propositions = []\n",
        "for texts in parsed_texts:\n",
        "    for text in texts:\n",
        "        clean_text = text.strip('\"').strip(\"'\")\n",
        "        propositions.append(Document(page_content=clean_text, metadata={\"Title\": \"Paul Graham's Founder Mode Essay\", \"Source\": \"https://www.perplexity.ai/page/paul-graham-s-founder-mode-ess-t9TCyvkqRiyMQJWsHr0fnQ\", \"chunk_id\": i+1}))     "
      ]
    },
    {
      "cell_type": "code",
      "execution_count": 171,
      "metadata": {},
      "outputs": [
        {
          "data": {
            "text/plain": [
              "[Document(metadata={'Title': \"Paul Graham's Founder Mode Essay\", 'Source': 'https://www.perplexity.ai/page/paul-graham-s-founder-mode-ess-t9TCyvkqRiyMQJWsHr0fnQ', 'chunk_id': 3}, page_content=\"Paul Graham published an essay titled 'Founder Mode' in September 2024.\"),\n",
              " Document(metadata={'Title': \"Paul Graham's Founder Mode Essay\", 'Source': 'https://www.perplexity.ai/page/paul-graham-s-founder-mode-ess-t9TCyvkqRiyMQJWsHr0fnQ', 'chunk_id': 3}, page_content='The essay challenges conventional wisdom about scaling startups.'),\n",
              " Document(metadata={'Title': \"Paul Graham's Founder Mode Essay\", 'Source': 'https://www.perplexity.ai/page/paul-graham-s-founder-mode-ess-t9TCyvkqRiyMQJWsHr0fnQ', 'chunk_id': 3}, page_content='Graham argues that founders should maintain their unique management style instead of adopting corporate practices.'),\n",
              " Document(metadata={'Title': \"Paul Graham's Founder Mode Essay\", 'Source': 'https://www.perplexity.ai/page/paul-graham-s-founder-mode-ess-t9TCyvkqRiyMQJWsHr0fnQ', 'chunk_id': 3}, page_content='Conventional advice, such as hiring good people and giving them autonomy, often fails for startups.'),\n",
              " Document(metadata={'Title': \"Paul Graham's Founder Mode Essay\", 'Source': 'https://www.perplexity.ai/page/paul-graham-s-founder-mode-ess-t9TCyvkqRiyMQJWsHr0fnQ', 'chunk_id': 3}, page_content=\"Graham introduces the concept of 'Founder Mode', which is different from the 'manager mode' taught in business schools and by professional managers.\"),\n",
              " Document(metadata={'Title': \"Paul Graham's Founder Mode Essay\", 'Source': 'https://www.perplexity.ai/page/paul-graham-s-founder-mode-ess-t9TCyvkqRiyMQJWsHr0fnQ', 'chunk_id': 3}, page_content=\"Startups require the founder's direct involvement and understanding of the company's vision and culture, which professional managers lack.\"),\n",
              " Document(metadata={'Title': \"Paul Graham's Founder Mode Essay\", 'Source': 'https://www.perplexity.ai/page/paul-graham-s-founder-mode-ess-t9TCyvkqRiyMQJWsHr0fnQ', 'chunk_id': 3}, page_content=\"Founders have unique insights and abilities that professional managers do not, primarily due to their deep understanding of the company's vision and culture.\"),\n",
              " Document(metadata={'Title': \"Paul Graham's Founder Mode Essay\", 'Source': 'https://www.perplexity.ai/page/paul-graham-s-founder-mode-ess-t9TCyvkqRiyMQJWsHr0fnQ', 'chunk_id': 3}, page_content=\"Graham suggests that founders should leverage their strengths instead of adhering to conventional managerial practices. 'Founder Mode' is an emerging paradigm that is not yet fully understood or documented, with Graham hoping that over time, it will become as well-understood as the conventional managerial approach, enabling founders to preserve their distinctive approach even as their companies grow.\"),\n",
              " Document(metadata={'Title': \"Paul Graham's Founder Mode Essay\", 'Source': 'https://www.perplexity.ai/page/paul-graham-s-founder-mode-ess-t9TCyvkqRiyMQJWsHr0fnQ', 'chunk_id': 3}, page_content=\"Transitioning to a more structured managerial approach as startups scale is believed to be necessary, but many founders find this transition challenging, as it often results in the loss of the innovative and adaptable spirit that initially fueled the startup's triumph.\"),\n",
              " Document(metadata={'Title': \"Paul Graham's Founder Mode Essay\", 'Source': 'https://www.perplexity.ai/page/paul-graham-s-founder-mode-ess-t9TCyvkqRiyMQJWsHr0fnQ', 'chunk_id': 3}, page_content='Brian Chesky, co-founder of Airbnb, learned from his poor outcomes when following a traditional management style.'),\n",
              " Document(metadata={'Title': \"Paul Graham's Founder Mode Essay\", 'Source': 'https://www.perplexity.ai/page/paul-graham-s-founder-mode-ess-t9TCyvkqRiyMQJWsHr0fnQ', 'chunk_id': 3}, page_content=\"Brian Chesky adopted a different approach, influenced by Steve Jobs' management style at Apple.\"),\n",
              " Document(metadata={'Title': \"Paul Graham's Founder Mode Essay\", 'Source': 'https://www.perplexity.ai/page/paul-graham-s-founder-mode-ess-t9TCyvkqRiyMQJWsHr0fnQ', 'chunk_id': 3}, page_content=\"Steve Jobs' management approach at Apple involved holding an annual retreat for the 100 most important people, regardless of their position on the organizational chart.\"),\n",
              " Document(metadata={'Title': \"Paul Graham's Founder Mode Essay\", 'Source': 'https://www.perplexity.ai/page/paul-graham-s-founder-mode-ess-t9TCyvkqRiyMQJWsHr0fnQ', 'chunk_id': 3}, page_content='This unconventional method allowed Steve Jobs to maintain a startup-like environment even as Apple grew, fostering innovation and direct communication across hierarchical levels.'),\n",
              " Document(metadata={'Title': \"Paul Graham's Founder Mode Essay\", 'Source': 'https://www.perplexity.ai/page/paul-graham-s-founder-mode-ess-t9TCyvkqRiyMQJWsHr0fnQ', 'chunk_id': 3}, page_content=\"Steve Jobs emphasized the importance of founders staying deeply involved in their companies' operations, challenging the traditional notion of delegating responsibilities to professional managers as companies scale.\")]"
            ]
          },
          "execution_count": 171,
          "metadata": {},
          "output_type": "execute_result"
        }
      ],
      "source": [
        "propositions"
      ]
    },
    {
      "cell_type": "markdown",
      "metadata": {},
      "source": [
        "### Quality Check"
      ]
    },
    {
      "cell_type": "code",
      "execution_count": 179,
      "metadata": {},
      "outputs": [],
      "source": [
        "# Data model\n",
        "class GradePropositions(BaseModel):\n",
        "    \"\"\"Grade a given proposition on accuracy, clarity, completeness, and conciseness\"\"\"\n",
        "\n",
        "    accuracy: int = Field(\n",
        "        description=\"Rate from 1-10 based on how well the proposition reflects the original text.\"\n",
        "    )\n",
        "    \n",
        "    clarity: int = Field(\n",
        "        description=\"Rate from 1-10 based on how easy it is to understand the proposition without additional context.\"\n",
        "    )\n",
        "\n",
        "    completeness: int = Field(\n",
        "        description=\"Rate from 1-10 based on whether the proposition includes necessary details (e.g., dates, qualifiers).\"\n",
        "    )\n",
        "\n",
        "    conciseness: int = Field(\n",
        "        description=\"Rate from 1-10 based on whether the proposition is concise without losing important information.\"\n",
        "    )\n",
        "\n",
        "llm = ChatGroq(model=\"llama-3.3-70b-versatile\", temperature=0)\n",
        "structured_llm= llm.with_structured_output(GradePropositions)\n",
        "\n",
        "# Prompt\n",
        "evaluation_prompt_template = \"\"\"\n",
        "Please evaluate the following proposition based on the criteria below:\n",
        "- **Accuracy**: Rate from 1-10 based on how well the proposition reflects the original text.\n",
        "- **Clarity**: Rate from 1-10 based on how easy it is to understand the proposition without additional context.\n",
        "- **Completeness**: Rate from 1-10 based on whether the proposition includes necessary details (e.g., dates, qualifiers).\n",
        "- **Conciseness**: Rate from 1-10 based on whether the proposition is concise without losing important information.\n",
        "\n",
        "Example:\n",
        "Docs: In 1969, Neil Armstrong became the first person to walk on the Moon during the Apollo 11 mission.\n",
        "\n",
        "Propositons_1: Neil Armstrong was an astronaut.\n",
        "Evaluation_1: \"accuracy\": 10, \"clarity\": 10, \"completeness\": 10, \"conciseness\": 10\n",
        "\n",
        "Propositons_2: Neil Armstrong walked on the Moon in 1969.\n",
        "Evaluation_3: \"accuracy\": 10, \"clarity\": 10, \"completeness\": 10, \"conciseness\": 10\n",
        "\n",
        "Propositons_3: Neil Armstrong was the first person to walk on the Moon.\n",
        "Evaluation_3: \"accuracy\": 10, \"clarity\": 10, \"completeness\": 10, \"conciseness\": 10\n",
        "\n",
        "Propositons_4: Neil Armstrong walked on the Moon during the Apollo 11 mission.\n",
        "Evaluation_4: \"accuracy\": 10, \"clarity\": 10, \"completeness\": 10, \"conciseness\": 10\n",
        "\n",
        "Propositons_5: The Apollo 11 mission occurred in 1969.\n",
        "Evaluation_5: \"accuracy\": 10, \"clarity\": 10, \"completeness\": 10, \"conciseness\": 10\n",
        "\n",
        "Format:\n",
        "Proposition: \"{proposition}\"\n",
        "Original Text: \"{original_text}\"\n",
        "\"\"\"\n",
        "prompt = ChatPromptTemplate.from_messages(\n",
        "    [\n",
        "        (\"system\", evaluation_prompt_template),\n",
        "        (\"human\", \"{proposition}, {original_text}\"),\n",
        "    ]\n",
        ")\n",
        "\n",
        "proposition_evaluator = prompt | structured_llm"
      ]
    },
    {
      "cell_type": "code",
      "execution_count": 181,
      "metadata": {},
      "outputs": [
        {
          "name": "stdout",
          "output_type": "stream",
          "text": [
            "1) Propostion: Paul Graham published an essay titled 'Founder Mode' in September 2024. \n",
            " Scores: {'accuracy': 0, 'clarity': 8, 'completeness': 2, 'conciseness': 9}\n",
            "Fail\n",
            "5) Propostion: Graham introduces the concept of 'Founder Mode', which is different from the 'manager mode' taught in business schools and by professional managers. \n",
            " Scores: {'accuracy': 0, 'clarity': 8, 'completeness': 2, 'conciseness': 7}\n",
            "Fail\n"
          ]
        }
      ],
      "source": [
        "# Define evaluation categories and thresholds\n",
        "evaluation_categories = [\"accuracy\", \"clarity\", \"completeness\", \"conciseness\"]\n",
        "thresholds = {\"accuracy\": 6, \"clarity\": 6, \"completeness\": 6, \"conciseness\": 3}\n",
        "\n",
        "# Function to evaluate proposition\n",
        "def evaluate_proposition(proposition, original_text):\n",
        "    response = proposition_evaluator.invoke({\"proposition\": proposition, \"original_text\": original_text})\n",
        "    \n",
        "    # Parse the response to extract scores\n",
        "    scores = {\"accuracy\": response.accuracy, \"clarity\": response.clarity, \"completeness\": response.completeness, \"conciseness\": response.conciseness}  # Implement function to extract scores from the LLM response\n",
        "    return scores\n",
        "\n",
        "# Check if the proposition passes the quality check\n",
        "def passes_quality_check(scores):\n",
        "    for category, score in scores.items():\n",
        "        if score < thresholds[category]:\n",
        "            return False\n",
        "    return True\n",
        "\n",
        "evaluated_propositions = [] # Store all the propositions from the document\n",
        "\n",
        "# Loop through generated propositions and evaluate them\n",
        "for idx, proposition in enumerate(propositions):\n",
        "    if len(evaluated_propositions) > 8: \n",
        "        break\n",
        "    scores = evaluate_proposition(proposition.page_content, doc_splits[proposition.metadata['chunk_id'] - 1].page_content)\n",
        "    if passes_quality_check(scores):\n",
        "        # Proposition passes quality check, keep it\n",
        "        evaluated_propositions.append(proposition)\n",
        "    else:\n",
        "        # Proposition fails, discard or flag for further review\n",
        "        print(f\"{idx+1}) Propostion: {proposition.page_content} \\n Scores: {scores}\")\n",
        "        print(\"Fail\")"
      ]
    },
    {
      "cell_type": "code",
      "execution_count": 182,
      "metadata": {},
      "outputs": [
        {
          "data": {
            "text/plain": [
              "[Document(metadata={'Title': \"Paul Graham's Founder Mode Essay\", 'Source': 'https://www.perplexity.ai/page/paul-graham-s-founder-mode-ess-t9TCyvkqRiyMQJWsHr0fnQ', 'chunk_id': 3}, page_content='The essay challenges conventional wisdom about scaling startups.'),\n",
              " Document(metadata={'Title': \"Paul Graham's Founder Mode Essay\", 'Source': 'https://www.perplexity.ai/page/paul-graham-s-founder-mode-ess-t9TCyvkqRiyMQJWsHr0fnQ', 'chunk_id': 3}, page_content='Graham argues that founders should maintain their unique management style instead of adopting corporate practices.'),\n",
              " Document(metadata={'Title': \"Paul Graham's Founder Mode Essay\", 'Source': 'https://www.perplexity.ai/page/paul-graham-s-founder-mode-ess-t9TCyvkqRiyMQJWsHr0fnQ', 'chunk_id': 3}, page_content='Conventional advice, such as hiring good people and giving them autonomy, often fails for startups.'),\n",
              " Document(metadata={'Title': \"Paul Graham's Founder Mode Essay\", 'Source': 'https://www.perplexity.ai/page/paul-graham-s-founder-mode-ess-t9TCyvkqRiyMQJWsHr0fnQ', 'chunk_id': 3}, page_content=\"Startups require the founder's direct involvement and understanding of the company's vision and culture, which professional managers lack.\"),\n",
              " Document(metadata={'Title': \"Paul Graham's Founder Mode Essay\", 'Source': 'https://www.perplexity.ai/page/paul-graham-s-founder-mode-ess-t9TCyvkqRiyMQJWsHr0fnQ', 'chunk_id': 3}, page_content=\"Founders have unique insights and abilities that professional managers do not, primarily due to their deep understanding of the company's vision and culture.\"),\n",
              " Document(metadata={'Title': \"Paul Graham's Founder Mode Essay\", 'Source': 'https://www.perplexity.ai/page/paul-graham-s-founder-mode-ess-t9TCyvkqRiyMQJWsHr0fnQ', 'chunk_id': 3}, page_content=\"Graham suggests that founders should leverage their strengths instead of adhering to conventional managerial practices. 'Founder Mode' is an emerging paradigm that is not yet fully understood or documented, with Graham hoping that over time, it will become as well-understood as the conventional managerial approach, enabling founders to preserve their distinctive approach even as their companies grow.\"),\n",
              " Document(metadata={'Title': \"Paul Graham's Founder Mode Essay\", 'Source': 'https://www.perplexity.ai/page/paul-graham-s-founder-mode-ess-t9TCyvkqRiyMQJWsHr0fnQ', 'chunk_id': 3}, page_content=\"Transitioning to a more structured managerial approach as startups scale is believed to be necessary, but many founders find this transition challenging, as it often results in the loss of the innovative and adaptable spirit that initially fueled the startup's triumph.\"),\n",
              " Document(metadata={'Title': \"Paul Graham's Founder Mode Essay\", 'Source': 'https://www.perplexity.ai/page/paul-graham-s-founder-mode-ess-t9TCyvkqRiyMQJWsHr0fnQ', 'chunk_id': 3}, page_content='Brian Chesky, co-founder of Airbnb, learned from his poor outcomes when following a traditional management style.'),\n",
              " Document(metadata={'Title': \"Paul Graham's Founder Mode Essay\", 'Source': 'https://www.perplexity.ai/page/paul-graham-s-founder-mode-ess-t9TCyvkqRiyMQJWsHr0fnQ', 'chunk_id': 3}, page_content=\"Brian Chesky adopted a different approach, influenced by Steve Jobs' management style at Apple.\")]"
            ]
          },
          "execution_count": 182,
          "metadata": {},
          "output_type": "execute_result"
        }
      ],
      "source": [
        "evaluated_propositions"
      ]
    },
    {
      "cell_type": "markdown",
      "metadata": {},
      "source": [
        "### Embedding propositions in a vectorstore"
      ]
    },
    {
      "cell_type": "code",
      "execution_count": null,
      "metadata": {},
      "outputs": [
        {
          "name": "stderr",
          "output_type": "stream",
          "text": [
            "Batches: 100%|██████████| 1/1 [00:00<00:00,  5.77it/s]\n"
          ]
        }
      ],
      "source": [
        "vectorstore_propositions = FAISS.from_documents(evaluated_propositions, embedding_model)\n",
        "retriever_propositions = vectorstore_propositions.as_retriever(\n",
        "        search_type=\"similarity\",\n",
        "        search_kwargs={'k': 4},\n",
        "    )"
      ]
    },
    {
      "cell_type": "code",
      "execution_count": 184,
      "metadata": {},
      "outputs": [
        {
          "name": "stderr",
          "output_type": "stream",
          "text": [
            "Batches: 100%|██████████| 1/1 [00:00<00:00, 63.86it/s]\n"
          ]
        }
      ],
      "source": [
        "query = \"Who's management approach served as inspiartion for Brian Chesky's \\\"Founder Mode\\\" at Airbnb?\"\n",
        "res_proposition = retriever_propositions.invoke(query)"
      ]
    },
    {
      "cell_type": "code",
      "execution_count": 185,
      "metadata": {},
      "outputs": [
        {
          "name": "stdout",
          "output_type": "stream",
          "text": [
            "1) Content: Brian Chesky, co-founder of Airbnb, learned from his poor outcomes when following a traditional management style. --- Chunk_id: 3\n",
            "2) Content: Brian Chesky adopted a different approach, influenced by Steve Jobs' management style at Apple. --- Chunk_id: 3\n",
            "3) Content: Graham suggests that founders should leverage their strengths instead of adhering to conventional managerial practices. 'Founder Mode' is an emerging paradigm that is not yet fully understood or documented, with Graham hoping that over time, it will become as well-understood as the conventional managerial approach, enabling founders to preserve their distinctive approach even as their companies grow. --- Chunk_id: 3\n",
            "4) Content: Graham argues that founders should maintain their unique management style instead of adopting corporate practices. --- Chunk_id: 3\n"
          ]
        }
      ],
      "source": [
        "for i, r in enumerate(res_proposition):\n",
        "    print(f\"{i+1}) Content: {r.page_content} --- Chunk_id: {r.metadata['chunk_id']}\")"
      ]
    },
    {
      "cell_type": "markdown",
      "metadata": {},
      "source": [
        "### Comparing performance with larger chunks size"
      ]
    },
    {
      "cell_type": "code",
      "execution_count": 187,
      "metadata": {},
      "outputs": [
        {
          "name": "stderr",
          "output_type": "stream",
          "text": [
            "Batches: 100%|██████████| 1/1 [00:00<00:00, 198.69it/s]\n"
          ]
        }
      ],
      "source": [
        "vectorstore_larger = FAISS.from_documents(doc_splits, embedding_model)\n",
        "retriever_larger = vectorstore_larger.as_retriever(\n",
        "    search_type=\"similarity\",\n",
        "    search_kwargs={'k': 4},\n",
        ")"
      ]
    },
    {
      "cell_type": "code",
      "execution_count": 188,
      "metadata": {},
      "outputs": [
        {
          "name": "stderr",
          "output_type": "stream",
          "text": [
            "Batches: 100%|██████████| 1/1 [00:00<00:00, 234.80it/s]\n"
          ]
        }
      ],
      "source": [
        "res_larger = retriever_larger.invoke(query)"
      ]
    },
    {
      "cell_type": "code",
      "execution_count": 189,
      "metadata": {},
      "outputs": [
        {
          "name": "stdout",
          "output_type": "stream",
          "text": [
            "1) Content: Brian Chesky, co-founder of Airbnb, shared his experience of being advised to run the company in a traditional managerial style, which led to poor outcomes. He eventually found success by adopting a different approach, influenced by how Steve Jobs managed Apple.\n",
            "Steve Jobs' Management Style\n",
            "Steve Jobs' management approach at Apple served as inspiration for Brian Chesky's \"Founder Mode\" at Airbnb. One notable practice was Jobs' annual retreat for the 100 most important people at Apple, regardless of their position on the organizational chart\n",
            ". This unconventional method allowed Jobs to maintain a startup-like environment even as Apple grew, fostering innovation and direct communication across hierarchical levels. Such practices emphasize the importance of founders staying deeply involved in their companies' operations, challenging the traditional notion of delegating responsibilities to professional managers as companies scale. --- Chunk_id: 3\n",
            "2) Content: Paul Graham's essay \"Founder Mode,\" published in September 2024, challenges conventional wisdom about scaling startups, arguing that founders should maintain their unique management style rather than adopting traditional corporate practices as their companies grow.\n",
            "Conventional Wisdom vs. Founder Mode\n",
            "The essay argues that the traditional advice given to growing companies—hiring good people and giving them autonomy—often fails when applied to startups.\n",
            "This approach, suitable for established companies, can be detrimental to startups where the founder's vision and direct involvement are crucial. \"Founder Mode\" is presented as an emerging paradigm that is not yet fully understood or documented, contrasting with the conventional \"manager mode\" often advised by business schools and professional managers.\n",
            "Unique Founder Abilities\n",
            "Founders possess unique insights and abilities that professional managers do not, primarily because they have a deep understanding of their company's vision and culture. --- Chunk_id: 1\n",
            "3) Content: Unique Founder Abilities\n",
            "Founders possess unique insights and abilities that professional managers do not, primarily because they have a deep understanding of their company's vision and culture.\n",
            "Graham suggests that founders should leverage these strengths rather than conform to traditional managerial practices. \"Founder Mode\" is an emerging paradigm that is not yet fully understood or documented, with Graham hoping that over time, it will become as well-understood as the traditional manager mode, allowing founders to maintain their unique approach even as their companies scale.\n",
            "Challenges of Scaling Startups\n",
            "As startups grow, there is a common belief that they must transition to a more structured managerial approach. However, many founders have found this transition problematic, as it often leads to a loss of the innovative and agile spirit that drove the startup's initial success. --- Chunk_id: 2\n"
          ]
        }
      ],
      "source": [
        "for i, r in enumerate(res_larger):\n",
        "    print(f\"{i+1}) Content: {r.page_content} --- Chunk_id: {r.metadata['chunk_id']}\")"
      ]
    },
    {
      "cell_type": "markdown",
      "metadata": {},
      "source": [
        "### Testing"
      ]
    },
    {
      "cell_type": "markdown",
      "metadata": {},
      "source": [
        "#### Test - 1"
      ]
    },
    {
      "cell_type": "code",
      "execution_count": null,
      "metadata": {},
      "outputs": [],
      "source": [
        "test_query_1 = \"what is the essay \\\"Founder Mode\\\" about?\"\n",
        "res_proposition = retriever_propositions.invoke(test_query_1)\n",
        "res_larger = retriever_larger.invoke(test_query_1)"
      ]
    },
    {
      "cell_type": "code",
      "execution_count": null,
      "metadata": {},
      "outputs": [],
      "source": [
        "for i, r in enumerate(res_proposition):\n",
        "    print(f\"{i+1}) Content: {r.page_content} --- Chunk_id: {r.metadata['chunk_id']}\")"
      ]
    },
    {
      "cell_type": "code",
      "execution_count": null,
      "metadata": {},
      "outputs": [],
      "source": [
        "for i, r in enumerate(res_larger):\n",
        "    print(f\"{i+1}) Content: {r.page_content} --- Chunk_id: {r.metadata['chunk_id']}\")"
      ]
    },
    {
      "cell_type": "markdown",
      "metadata": {},
      "source": [
        "#### Test - 2"
      ]
    },
    {
      "cell_type": "code",
      "execution_count": 190,
      "metadata": {},
      "outputs": [
        {
          "name": "stderr",
          "output_type": "stream",
          "text": [
            "Batches: 100%|██████████| 1/1 [00:00<00:00, 39.00it/s]\n",
            "Batches: 100%|██████████| 1/1 [00:00<00:00, 282.64it/s]\n"
          ]
        }
      ],
      "source": [
        "test_query_2 = \"who is the co-founder of Airbnb?\"\n",
        "res_proposition = retriever_propositions.invoke(test_query_2)\n",
        "res_larger = retriever_larger.invoke(test_query_2)"
      ]
    },
    {
      "cell_type": "code",
      "execution_count": 191,
      "metadata": {},
      "outputs": [
        {
          "name": "stdout",
          "output_type": "stream",
          "text": [
            "1) Content: Brian Chesky, co-founder of Airbnb, learned from his poor outcomes when following a traditional management style. --- Chunk_id: 3\n",
            "2) Content: Graham suggests that founders should leverage their strengths instead of adhering to conventional managerial practices. 'Founder Mode' is an emerging paradigm that is not yet fully understood or documented, with Graham hoping that over time, it will become as well-understood as the conventional managerial approach, enabling founders to preserve their distinctive approach even as their companies grow. --- Chunk_id: 3\n",
            "3) Content: Startups require the founder's direct involvement and understanding of the company's vision and culture, which professional managers lack. --- Chunk_id: 3\n",
            "4) Content: Graham argues that founders should maintain their unique management style instead of adopting corporate practices. --- Chunk_id: 3\n"
          ]
        }
      ],
      "source": [
        "for i, r in enumerate(res_proposition):\n",
        "    print(f\"{i+1}) Content: {r.page_content} --- Chunk_id: {r.metadata['chunk_id']}\")"
      ]
    },
    {
      "cell_type": "code",
      "execution_count": 192,
      "metadata": {},
      "outputs": [
        {
          "name": "stdout",
          "output_type": "stream",
          "text": [
            "1) Content: Brian Chesky, co-founder of Airbnb, shared his experience of being advised to run the company in a traditional managerial style, which led to poor outcomes. He eventually found success by adopting a different approach, influenced by how Steve Jobs managed Apple.\n",
            "Steve Jobs' Management Style\n",
            "Steve Jobs' management approach at Apple served as inspiration for Brian Chesky's \"Founder Mode\" at Airbnb. One notable practice was Jobs' annual retreat for the 100 most important people at Apple, regardless of their position on the organizational chart\n",
            ". This unconventional method allowed Jobs to maintain a startup-like environment even as Apple grew, fostering innovation and direct communication across hierarchical levels. Such practices emphasize the importance of founders staying deeply involved in their companies' operations, challenging the traditional notion of delegating responsibilities to professional managers as companies scale. --- Chunk_id: 3\n",
            "2) Content: Unique Founder Abilities\n",
            "Founders possess unique insights and abilities that professional managers do not, primarily because they have a deep understanding of their company's vision and culture.\n",
            "Graham suggests that founders should leverage these strengths rather than conform to traditional managerial practices. \"Founder Mode\" is an emerging paradigm that is not yet fully understood or documented, with Graham hoping that over time, it will become as well-understood as the traditional manager mode, allowing founders to maintain their unique approach even as their companies scale.\n",
            "Challenges of Scaling Startups\n",
            "As startups grow, there is a common belief that they must transition to a more structured managerial approach. However, many founders have found this transition problematic, as it often leads to a loss of the innovative and agile spirit that drove the startup's initial success. --- Chunk_id: 2\n",
            "3) Content: Paul Graham's essay \"Founder Mode,\" published in September 2024, challenges conventional wisdom about scaling startups, arguing that founders should maintain their unique management style rather than adopting traditional corporate practices as their companies grow.\n",
            "Conventional Wisdom vs. Founder Mode\n",
            "The essay argues that the traditional advice given to growing companies—hiring good people and giving them autonomy—often fails when applied to startups.\n",
            "This approach, suitable for established companies, can be detrimental to startups where the founder's vision and direct involvement are crucial. \"Founder Mode\" is presented as an emerging paradigm that is not yet fully understood or documented, contrasting with the conventional \"manager mode\" often advised by business schools and professional managers.\n",
            "Unique Founder Abilities\n",
            "Founders possess unique insights and abilities that professional managers do not, primarily because they have a deep understanding of their company's vision and culture. --- Chunk_id: 1\n"
          ]
        }
      ],
      "source": [
        "for i, r in enumerate(res_larger):\n",
        "    print(f\"{i+1}) Content: {r.page_content} --- Chunk_id: {r.metadata['chunk_id']}\")"
      ]
    },
    {
      "cell_type": "markdown",
      "metadata": {},
      "source": [
        "#### Test - 3"
      ]
    },
    {
      "cell_type": "code",
      "execution_count": null,
      "metadata": {},
      "outputs": [],
      "source": [
        "test_query_3 = \"when was the essay \\\"founder mode\\\" published?\"\n",
        "res_proposition = retriever_propositions.invoke(test_query_3)\n",
        "res_larger = retriever_larger.invoke(test_query_3)"
      ]
    },
    {
      "cell_type": "code",
      "execution_count": null,
      "metadata": {},
      "outputs": [],
      "source": [
        "for i, r in enumerate(res_proposition):\n",
        "    print(f\"{i+1}) Content: {r.page_content} --- Chunk_id: {r.metadata['chunk_id']}\")"
      ]
    },
    {
      "cell_type": "code",
      "execution_count": null,
      "metadata": {},
      "outputs": [],
      "source": [
        "for i, r in enumerate(res_larger):\n",
        "    print(f\"{i+1}) Content: {r.page_content} --- Chunk_id: {r.metadata['chunk_id']}\")"
      ]
    },
    {
      "cell_type": "markdown",
      "metadata": {},
      "source": [
        "### Comparison\n",
        "\n",
        "| **Aspect**                | **Proposition-Based Retrieval**                                         | **Simple Chunk Retrieval**                                              |\n",
        "|---------------------------|--------------------------------------------------------------------------|--------------------------------------------------------------------------|\n",
        "| **Precision in Response**  | High: Delivers focused and direct answers.                              | Medium: Provides more context but may include irrelevant information.    |\n",
        "| **Clarity and Brevity**    | High: Clear and concise, avoids unnecessary details.                    | Medium: More comprehensive but can be overwhelming.                      |\n",
        "| **Contextual Richness**    | Low: May lack context, focusing on specific propositions.               | High: Provides additional context and details.                           |\n",
        "| **Comprehensiveness**      | Low: May omit broader context or supplementary details.                 | High: Offers a more complete view with extensive information.            |\n",
        "| **Narrative Flow**         | Medium: Can be fragmented or disjointed.                                | High: Preserves the logical flow and coherence of the original document. |\n",
        "| **Information Overload**   | Low: Less likely to overwhelm with excess information.                  | High: Risk of overwhelming the user with too much information.           |\n",
        "| **Use Case Suitability**   | Best for quick, factual queries.                                        | Best for complex queries requiring in-depth understanding.               |\n",
        "| **Efficiency**             | High: Provides quick, targeted responses.                               | Medium: May require more effort to sift through additional content.      |\n",
        "| **Specificity**            | High: Precise and targeted responses.                                   | Medium: Answers may be less targeted due to inclusion of broader context.|\n"
      ]
    },
    {
      "cell_type": "markdown",
      "metadata": {},
      "source": [
        "![](https://europe-west1-rag-techniques-views-tracker.cloudfunctions.net/rag-techniques-tracker?notebook=all-rag-techniques--proposition-chunking)"
      ]
    }
  ],
  "metadata": {
    "colab": {
      "name": "",
      "provenance": [],
      "toc_visible": true
    },
    "kernelspec": {
      "display_name": "workdir",
      "language": "python",
      "name": "python3"
    },
    "language_info": {
      "codemirror_mode": {
        "name": "ipython",
        "version": 3
      },
      "file_extension": ".py",
      "mimetype": "text/x-python",
      "name": "python",
      "nbconvert_exporter": "python",
      "pygments_lexer": "ipython3",
      "version": "3.10.18"
    }
  },
  "nbformat": 4,
  "nbformat_minor": 2
}
